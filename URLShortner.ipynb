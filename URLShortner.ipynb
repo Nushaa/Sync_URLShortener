{
 "cells": [
  {
   "cell_type": "code",
   "execution_count": null,
   "id": "6693f87b",
   "metadata": {},
   "outputs": [],
   "source": [
    "from tkinter import*\n",
    "root=Tk()\n",
    "root.geometry(\"400x200\")\n",
    "root.title(\"URL Shortener\")\n",
    "root.configure(bg=\"#49A\")\n",
    "url = StringVar()\n",
    "url_address = StringVar()\n",
    "\n",
    "\n",
    "def urlshortner():\n",
    "    urladdress = url.get()\n",
    "    url_short = pyshorteners.Shortener().tinyurl.short(urladdress)\n",
    "    url_address.set(url_short)\n",
    "\n",
    "\n",
    "def copyurl():\n",
    "    url_short = url_address.get()\n",
    "    pyperclip.copy(url_short)\n",
    "\n",
    "\n",
    "Label(root, text=\"My URL Shortener\", font=\"poppins\").pack(pady=10)\n",
    "Entry(root, textvariable=url).pack(pady=5)\n",
    "Button(root, text=\"Generate Short URl\", command=urlshortner).pack(pady=7)\n",
    "Entry(root, textvariable=url_address).pack(pady=5)\n",
    "Button(root, text=\"Copy URL\", command=copyurl).pack(pady=5)\n",
    "\n",
    "root.mainloop()"
   ]
  },
  {
   "cell_type": "code",
   "execution_count": null,
   "id": "73096ebc",
   "metadata": {},
   "outputs": [],
   "source": []
  }
 ],
 "metadata": {
  "kernelspec": {
   "display_name": "Python 3",
   "language": "python",
   "name": "python3"
  },
  "language_info": {
   "codemirror_mode": {
    "name": "ipython",
    "version": 3
   },
   "file_extension": ".py",
   "mimetype": "text/x-python",
   "name": "python",
   "nbconvert_exporter": "python",
   "pygments_lexer": "ipython3",
   "version": "3.8.8"
  }
 },
 "nbformat": 4,
 "nbformat_minor": 5
}
